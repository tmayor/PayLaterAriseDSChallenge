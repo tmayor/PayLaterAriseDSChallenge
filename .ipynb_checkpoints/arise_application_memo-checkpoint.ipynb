{
 "cells": [
  {
   "cell_type": "markdown",
   "metadata": {},
   "source": [
    "# Arise Application Challenge\n",
    "---"
   ]
  },
  {
   "cell_type": "markdown",
   "metadata": {},
   "source": [
    "Please answer the questions shown below by completing the code within this notebook and filling in your final answers in the respective block of the arise Challenge Answers form. "
   ]
  },
  {
   "cell_type": "markdown",
   "metadata": {},
   "source": [
    "---"
   ]
  },
  {
   "cell_type": "markdown",
   "metadata": {},
   "source": [
    "### Step 1 (this step does not have an answer in the answer form)"
   ]
  },
  {
   "cell_type": "markdown",
   "metadata": {},
   "source": [
    "Please import the Pandas package. You will need to install the package if you do not already have them (`hint - google anaconda install pandas`)."
   ]
  },
  {
   "cell_type": "code",
   "execution_count": 1,
   "metadata": {},
   "outputs": [],
   "source": [
    "# Add your code for Question 1 in this code block\n",
    "import pandas as pd"
   ]
  },
  {
   "cell_type": "markdown",
   "metadata": {},
   "source": [
    "---"
   ]
  },
  {
   "cell_type": "markdown",
   "metadata": {},
   "source": [
    "### Step 2 (this step does not have an answer in the answer form)"
   ]
  },
  {
   "cell_type": "markdown",
   "metadata": {},
   "source": [
    "Use Pandas to read in the csv titled `application_data.csv` as a Panda's dataframe. Once you have read in the data as a dataframe use Panda's `head()` function to show an overview of the data."
   ]
  },
  {
   "cell_type": "code",
   "execution_count": 17,
   "metadata": {},
   "outputs": [
    {
     "data": {
      "text/html": [
       "<div>\n",
       "<style scoped>\n",
       "    .dataframe tbody tr th:only-of-type {\n",
       "        vertical-align: middle;\n",
       "    }\n",
       "\n",
       "    .dataframe tbody tr th {\n",
       "        vertical-align: top;\n",
       "    }\n",
       "\n",
       "    .dataframe thead th {\n",
       "        text-align: right;\n",
       "    }\n",
       "</style>\n",
       "<table border=\"1\" class=\"dataframe\">\n",
       "  <thead>\n",
       "    <tr style=\"text-align: right;\">\n",
       "      <th></th>\n",
       "      <th>customerID</th>\n",
       "      <th>loanId</th>\n",
       "      <th>appilcationDate</th>\n",
       "      <th>LoanNumber</th>\n",
       "      <th>LoanAmount</th>\n",
       "      <th>InterestRate</th>\n",
       "      <th>TermDays</th>\n",
       "      <th>repaymentDueDate</th>\n",
       "      <th>repaymentPaidDate</th>\n",
       "    </tr>\n",
       "  </thead>\n",
       "  <tbody>\n",
       "    <tr>\n",
       "      <th>0</th>\n",
       "      <td>839247458</td>\n",
       "      <td>302953235622</td>\n",
       "      <td>2018-12-21</td>\n",
       "      <td>1</td>\n",
       "      <td>7500.0</td>\n",
       "      <td>30.0</td>\n",
       "      <td>30</td>\n",
       "      <td>2019-01-20</td>\n",
       "      <td>2019-01-16</td>\n",
       "    </tr>\n",
       "    <tr>\n",
       "      <th>1</th>\n",
       "      <td>217540860</td>\n",
       "      <td>302960101337</td>\n",
       "      <td>2018-12-23</td>\n",
       "      <td>1</td>\n",
       "      <td>7500.0</td>\n",
       "      <td>30.0</td>\n",
       "      <td>30</td>\n",
       "      <td>2019-01-22</td>\n",
       "      <td>2018-12-29</td>\n",
       "    </tr>\n",
       "    <tr>\n",
       "      <th>2</th>\n",
       "      <td>522238092</td>\n",
       "      <td>303016988846</td>\n",
       "      <td>2019-01-08</td>\n",
       "      <td>1</td>\n",
       "      <td>7500.0</td>\n",
       "      <td>30.0</td>\n",
       "      <td>30</td>\n",
       "      <td>2019-02-07</td>\n",
       "      <td>2019-01-08</td>\n",
       "    </tr>\n",
       "    <tr>\n",
       "      <th>3</th>\n",
       "      <td>096754469</td>\n",
       "      <td>302999605504</td>\n",
       "      <td>2019-01-04</td>\n",
       "      <td>1</td>\n",
       "      <td>7500.0</td>\n",
       "      <td>30.0</td>\n",
       "      <td>30</td>\n",
       "      <td>2019-02-03</td>\n",
       "      <td>2019-01-08</td>\n",
       "    </tr>\n",
       "    <tr>\n",
       "      <th>4</th>\n",
       "      <td>410354345</td>\n",
       "      <td>302951945878</td>\n",
       "      <td>2018-12-21</td>\n",
       "      <td>1</td>\n",
       "      <td>7500.0</td>\n",
       "      <td>30.0</td>\n",
       "      <td>30</td>\n",
       "      <td>2019-01-20</td>\n",
       "      <td>2019-01-17</td>\n",
       "    </tr>\n",
       "  </tbody>\n",
       "</table>\n",
       "</div>"
      ],
      "text/plain": [
       "  customerID        loanId appilcationDate  LoanNumber  LoanAmount  \\\n",
       "0  839247458  302953235622      2018-12-21           1      7500.0   \n",
       "1  217540860  302960101337      2018-12-23           1      7500.0   \n",
       "2  522238092  303016988846      2019-01-08           1      7500.0   \n",
       "3  096754469  302999605504      2019-01-04           1      7500.0   \n",
       "4  410354345  302951945878      2018-12-21           1      7500.0   \n",
       "\n",
       "   InterestRate  TermDays repaymentDueDate repaymentPaidDate  \n",
       "0          30.0        30       2019-01-20        2019-01-16  \n",
       "1          30.0        30       2019-01-22        2018-12-29  \n",
       "2          30.0        30       2019-02-07        2019-01-08  \n",
       "3          30.0        30       2019-02-03        2019-01-08  \n",
       "4          30.0        30       2019-01-20        2019-01-17  "
      ]
     },
     "execution_count": 17,
     "metadata": {},
     "output_type": "execute_result"
    }
   ],
   "source": [
    "# Add your code for Question 2 in this code block\n",
    "data = pd.read_csv('application_data.csv')\n",
    "data.head()"
   ]
  },
  {
   "cell_type": "markdown",
   "metadata": {},
   "source": [
    "You should now be able to see that the dataset contains information relating to loans that have been disbursed. Each row of the data is specific to a particular loan and displays the customer's ID that took out the loan, a unique loan ID, the date when the client applied for the loan, the loan number of the specific loan (how many loans the client has now taken out), the amount, interest rate, term days, the date when the loan repayment was due and the date the loan was actually repaid."
   ]
  },
  {
   "cell_type": "markdown",
   "metadata": {},
   "source": [
    "---"
   ]
  },
  {
   "cell_type": "markdown",
   "metadata": {},
   "source": [
    "### Question 1"
   ]
  },
  {
   "cell_type": "markdown",
   "metadata": {},
   "source": [
    "Convert `appilcationDate`, `repaymentDueDate` and `repaymentPaidDate` in the dataframes to datetimes. "
   ]
  },
  {
   "cell_type": "code",
   "execution_count": 22,
   "metadata": {},
   "outputs": [],
   "source": [
    "data['appilcationDate'] = pd.to_datetime(data['appilcationDate'])\n",
    "data['repaymentDueDate'] = pd.to_datetime(data['repaymentDueDate'])\n",
    "data['repaymentPaidDate'] = pd.to_datetime(data['repaymentPaidDate'])"
   ]
  },
  {
   "cell_type": "markdown",
   "metadata": {},
   "source": [
    "Now that the dates have been converted, How many `unique` data types are contained within the application dataset?"
   ]
  },
  {
   "cell_type": "code",
   "execution_count": 23,
   "metadata": {},
   "outputs": [
    {
     "data": {
      "text/plain": [
       "datetime64[ns]    3\n",
       "int64             2\n",
       "object            2\n",
       "float64           2\n",
       "dtype: int64"
      ]
     },
     "execution_count": 23,
     "metadata": {},
     "output_type": "execute_result"
    }
   ],
   "source": [
    "data.dtypes.value_counts()"
   ]
  },
  {
   "cell_type": "markdown",
   "metadata": {},
   "source": [
    "### Question 2"
   ]
  },
  {
   "cell_type": "markdown",
   "metadata": {},
   "source": [
    "Please calculate the `average` loan amount, interest rate and termdays for all the loans in the dataset? `Round` all number to two decimal places."
   ]
  },
  {
   "cell_type": "code",
   "execution_count": 27,
   "metadata": {},
   "outputs": [
    {
     "data": {
      "text/plain": [
       "13828.08"
      ]
     },
     "execution_count": 27,
     "metadata": {},
     "output_type": "execute_result"
    }
   ],
   "source": [
    "# 2a avg loan amount\n",
    "round(data['LoanAmount'].mean(),2)"
   ]
  },
  {
   "cell_type": "code",
   "execution_count": 28,
   "metadata": {},
   "outputs": [
    {
     "data": {
      "text/plain": [
       "23.06"
      ]
     },
     "execution_count": 28,
     "metadata": {},
     "output_type": "execute_result"
    }
   ],
   "source": [
    "# 2b avg interest rate\n",
    "round(data['InterestRate'].mean(),2)"
   ]
  },
  {
   "cell_type": "code",
   "execution_count": 29,
   "metadata": {},
   "outputs": [
    {
     "data": {
      "text/plain": [
       "42.08"
      ]
     },
     "execution_count": 29,
     "metadata": {},
     "output_type": "execute_result"
    }
   ],
   "source": [
    "# 2c avg term days \n",
    "round(data['TermDays'].mean(),2)"
   ]
  },
  {
   "cell_type": "markdown",
   "metadata": {},
   "source": [
    "---"
   ]
  },
  {
   "cell_type": "markdown",
   "metadata": {},
   "source": [
    "### Question 3"
   ]
  },
  {
   "cell_type": "markdown",
   "metadata": {},
   "source": [
    "Please create a new column called `dateDifference` which needs to contains the number of days between when the loan was repaid and when it was due to be repaid. \n",
    "\n",
    "Count the number of loans that were paid more than 3 days late. This can be done by first creating a dataframe only containing the loans that were paid more than 3 days late. "
   ]
  },
  {
   "cell_type": "code",
   "execution_count": 36,
   "metadata": {},
   "outputs": [
    {
     "data": {
      "text/plain": [
       "(145, 10)"
      ]
     },
     "execution_count": 36,
     "metadata": {},
     "output_type": "execute_result"
    }
   ],
   "source": [
    "# number of loans more than 3 days late\n",
    "data['dateDifference'] = (data['repaymentPaidDate'] - data['repaymentDueDate']).dt.days\n",
    "late = data[data['dateDifference'] > 3]\n",
    "late.shape"
   ]
  },
  {
   "cell_type": "markdown",
   "metadata": {},
   "source": [
    "---"
   ]
  },
  {
   "cell_type": "markdown",
   "metadata": {},
   "source": [
    "### Question 4"
   ]
  },
  {
   "cell_type": "markdown",
   "metadata": {},
   "source": [
    "Please group the dataset by `TermDays` and calculate the `mean` loan amount and the `standard deviation` of loan amount within each term.\n",
    "\n",
    "What is the mean loan amount in 30-day loans and what is the standard deviation of  loan amount in 90-day loans? Please give your answers to the nearest two decimal places. "
   ]
  },
  {
   "cell_type": "code",
   "execution_count": 42,
   "metadata": {},
   "outputs": [
    {
     "data": {
      "text/html": [
       "<div>\n",
       "<style scoped>\n",
       "    .dataframe tbody tr th:only-of-type {\n",
       "        vertical-align: middle;\n",
       "    }\n",
       "\n",
       "    .dataframe tbody tr th {\n",
       "        vertical-align: top;\n",
       "    }\n",
       "\n",
       "    .dataframe thead tr th {\n",
       "        text-align: left;\n",
       "    }\n",
       "\n",
       "    .dataframe thead tr:last-of-type th {\n",
       "        text-align: right;\n",
       "    }\n",
       "</style>\n",
       "<table border=\"1\" class=\"dataframe\">\n",
       "  <thead>\n",
       "    <tr>\n",
       "      <th></th>\n",
       "      <th colspan=\"2\" halign=\"left\">LoanAmount</th>\n",
       "    </tr>\n",
       "    <tr>\n",
       "      <th></th>\n",
       "      <th>mean</th>\n",
       "      <th>std</th>\n",
       "    </tr>\n",
       "    <tr>\n",
       "      <th>TermDays</th>\n",
       "      <th></th>\n",
       "      <th></th>\n",
       "    </tr>\n",
       "  </thead>\n",
       "  <tbody>\n",
       "    <tr>\n",
       "      <th>15</th>\n",
       "      <td>1274.09</td>\n",
       "      <td>2885.97</td>\n",
       "    </tr>\n",
       "    <tr>\n",
       "      <th>30</th>\n",
       "      <td>7941.96</td>\n",
       "      <td>1606.04</td>\n",
       "    </tr>\n",
       "    <tr>\n",
       "      <th>45</th>\n",
       "      <td>10706.25</td>\n",
       "      <td>2346.14</td>\n",
       "    </tr>\n",
       "    <tr>\n",
       "      <th>60</th>\n",
       "      <td>25710.53</td>\n",
       "      <td>11559.65</td>\n",
       "    </tr>\n",
       "    <tr>\n",
       "      <th>90</th>\n",
       "      <td>37672.73</td>\n",
       "      <td>18050.14</td>\n",
       "    </tr>\n",
       "    <tr>\n",
       "      <th>120</th>\n",
       "      <td>45055.56</td>\n",
       "      <td>22192.97</td>\n",
       "    </tr>\n",
       "    <tr>\n",
       "      <th>180</th>\n",
       "      <td>80988.10</td>\n",
       "      <td>34612.22</td>\n",
       "    </tr>\n",
       "  </tbody>\n",
       "</table>\n",
       "</div>"
      ],
      "text/plain": [
       "         LoanAmount          \n",
       "               mean       std\n",
       "TermDays                     \n",
       "15          1274.09   2885.97\n",
       "30          7941.96   1606.04\n",
       "45         10706.25   2346.14\n",
       "60         25710.53  11559.65\n",
       "90         37672.73  18050.14\n",
       "120        45055.56  22192.97\n",
       "180        80988.10  34612.22"
      ]
     },
     "execution_count": 42,
     "metadata": {},
     "output_type": "execute_result"
    }
   ],
   "source": [
    "# mean loan amount in 30-day loans and standard deviation of loan amount in 90-day loans\n",
    "round(data.groupby('TermDays').agg({'LoanAmount': ['mean', 'std']}),2)"
   ]
  },
  {
   "cell_type": "markdown",
   "metadata": {},
   "source": [
    "--- "
   ]
  },
  {
   "cell_type": "markdown",
   "metadata": {},
   "source": [
    "### Question 5"
   ]
  },
  {
   "cell_type": "markdown",
   "metadata": {},
   "source": [
    "`Late` loans are defined as loans that were paid `more than 3 days` after their due date. Please find the average number of days that these loans were paid beyond their due date for each `week of the year`. This will require you to break all `appilcationDate's` down into the week of the year they were made and then perform a group by. \n",
    "\n",
    "What is the average number of days that `late` loans applied for in the second week of the year were paid late? Please sumbit your answer rounded to two decimal places. "
   ]
  },
  {
   "cell_type": "code",
   "execution_count": 54,
   "metadata": {},
   "outputs": [
    {
     "name": "stderr",
     "output_type": "stream",
     "text": [
      "/anaconda3/lib/python3.7/site-packages/ipykernel_launcher.py:1: SettingWithCopyWarning: \n",
      "A value is trying to be set on a copy of a slice from a DataFrame.\n",
      "Try using .loc[row_indexer,col_indexer] = value instead\n",
      "\n",
      "See the caveats in the documentation: http://pandas.pydata.org/pandas-docs/stable/indexing.html#indexing-view-versus-copy\n",
      "  \"\"\"Entry point for launching an IPython kernel.\n"
     ]
    },
    {
     "data": {
      "text/html": [
       "<div>\n",
       "<style scoped>\n",
       "    .dataframe tbody tr th:only-of-type {\n",
       "        vertical-align: middle;\n",
       "    }\n",
       "\n",
       "    .dataframe tbody tr th {\n",
       "        vertical-align: top;\n",
       "    }\n",
       "\n",
       "    .dataframe thead tr th {\n",
       "        text-align: left;\n",
       "    }\n",
       "\n",
       "    .dataframe thead tr:last-of-type th {\n",
       "        text-align: right;\n",
       "    }\n",
       "</style>\n",
       "<table border=\"1\" class=\"dataframe\">\n",
       "  <thead>\n",
       "    <tr>\n",
       "      <th></th>\n",
       "      <th>dateDifference</th>\n",
       "    </tr>\n",
       "    <tr>\n",
       "      <th></th>\n",
       "      <th>mean</th>\n",
       "    </tr>\n",
       "    <tr>\n",
       "      <th>WOM</th>\n",
       "      <th></th>\n",
       "    </tr>\n",
       "  </thead>\n",
       "  <tbody>\n",
       "    <tr>\n",
       "      <th>1</th>\n",
       "      <td>87.60</td>\n",
       "    </tr>\n",
       "    <tr>\n",
       "      <th>2</th>\n",
       "      <td>45.75</td>\n",
       "    </tr>\n",
       "    <tr>\n",
       "      <th>3</th>\n",
       "      <td>16.50</td>\n",
       "    </tr>\n",
       "    <tr>\n",
       "      <th>4</th>\n",
       "      <td>37.92</td>\n",
       "    </tr>\n",
       "    <tr>\n",
       "      <th>5</th>\n",
       "      <td>18.00</td>\n",
       "    </tr>\n",
       "    <tr>\n",
       "      <th>6</th>\n",
       "      <td>39.71</td>\n",
       "    </tr>\n",
       "    <tr>\n",
       "      <th>7</th>\n",
       "      <td>29.25</td>\n",
       "    </tr>\n",
       "    <tr>\n",
       "      <th>8</th>\n",
       "      <td>25.15</td>\n",
       "    </tr>\n",
       "    <tr>\n",
       "      <th>9</th>\n",
       "      <td>55.86</td>\n",
       "    </tr>\n",
       "    <tr>\n",
       "      <th>10</th>\n",
       "      <td>29.25</td>\n",
       "    </tr>\n",
       "    <tr>\n",
       "      <th>11</th>\n",
       "      <td>71.50</td>\n",
       "    </tr>\n",
       "    <tr>\n",
       "      <th>12</th>\n",
       "      <td>19.50</td>\n",
       "    </tr>\n",
       "    <tr>\n",
       "      <th>13</th>\n",
       "      <td>34.00</td>\n",
       "    </tr>\n",
       "    <tr>\n",
       "      <th>14</th>\n",
       "      <td>14.00</td>\n",
       "    </tr>\n",
       "    <tr>\n",
       "      <th>15</th>\n",
       "      <td>7.00</td>\n",
       "    </tr>\n",
       "    <tr>\n",
       "      <th>17</th>\n",
       "      <td>34.50</td>\n",
       "    </tr>\n",
       "    <tr>\n",
       "      <th>19</th>\n",
       "      <td>66.50</td>\n",
       "    </tr>\n",
       "    <tr>\n",
       "      <th>20</th>\n",
       "      <td>28.00</td>\n",
       "    </tr>\n",
       "    <tr>\n",
       "      <th>21</th>\n",
       "      <td>10.00</td>\n",
       "    </tr>\n",
       "    <tr>\n",
       "      <th>22</th>\n",
       "      <td>88.00</td>\n",
       "    </tr>\n",
       "    <tr>\n",
       "      <th>23</th>\n",
       "      <td>11.00</td>\n",
       "    </tr>\n",
       "    <tr>\n",
       "      <th>24</th>\n",
       "      <td>36.00</td>\n",
       "    </tr>\n",
       "    <tr>\n",
       "      <th>26</th>\n",
       "      <td>27.33</td>\n",
       "    </tr>\n",
       "    <tr>\n",
       "      <th>27</th>\n",
       "      <td>4.00</td>\n",
       "    </tr>\n",
       "    <tr>\n",
       "      <th>28</th>\n",
       "      <td>7.00</td>\n",
       "    </tr>\n",
       "    <tr>\n",
       "      <th>29</th>\n",
       "      <td>69.00</td>\n",
       "    </tr>\n",
       "    <tr>\n",
       "      <th>30</th>\n",
       "      <td>65.00</td>\n",
       "    </tr>\n",
       "    <tr>\n",
       "      <th>31</th>\n",
       "      <td>108.00</td>\n",
       "    </tr>\n",
       "    <tr>\n",
       "      <th>32</th>\n",
       "      <td>15.50</td>\n",
       "    </tr>\n",
       "    <tr>\n",
       "      <th>33</th>\n",
       "      <td>30.00</td>\n",
       "    </tr>\n",
       "    <tr>\n",
       "      <th>34</th>\n",
       "      <td>14.00</td>\n",
       "    </tr>\n",
       "    <tr>\n",
       "      <th>35</th>\n",
       "      <td>4.00</td>\n",
       "    </tr>\n",
       "    <tr>\n",
       "      <th>36</th>\n",
       "      <td>39.33</td>\n",
       "    </tr>\n",
       "    <tr>\n",
       "      <th>37</th>\n",
       "      <td>17.20</td>\n",
       "    </tr>\n",
       "    <tr>\n",
       "      <th>38</th>\n",
       "      <td>60.00</td>\n",
       "    </tr>\n",
       "    <tr>\n",
       "      <th>39</th>\n",
       "      <td>9.00</td>\n",
       "    </tr>\n",
       "    <tr>\n",
       "      <th>40</th>\n",
       "      <td>9.00</td>\n",
       "    </tr>\n",
       "    <tr>\n",
       "      <th>41</th>\n",
       "      <td>8.00</td>\n",
       "    </tr>\n",
       "    <tr>\n",
       "      <th>42</th>\n",
       "      <td>20.00</td>\n",
       "    </tr>\n",
       "    <tr>\n",
       "      <th>44</th>\n",
       "      <td>9.00</td>\n",
       "    </tr>\n",
       "    <tr>\n",
       "      <th>45</th>\n",
       "      <td>6.00</td>\n",
       "    </tr>\n",
       "    <tr>\n",
       "      <th>48</th>\n",
       "      <td>18.00</td>\n",
       "    </tr>\n",
       "  </tbody>\n",
       "</table>\n",
       "</div>"
      ],
      "text/plain": [
       "    dateDifference\n",
       "              mean\n",
       "WOM               \n",
       "1            87.60\n",
       "2            45.75\n",
       "3            16.50\n",
       "4            37.92\n",
       "5            18.00\n",
       "6            39.71\n",
       "7            29.25\n",
       "8            25.15\n",
       "9            55.86\n",
       "10           29.25\n",
       "11           71.50\n",
       "12           19.50\n",
       "13           34.00\n",
       "14           14.00\n",
       "15            7.00\n",
       "17           34.50\n",
       "19           66.50\n",
       "20           28.00\n",
       "21           10.00\n",
       "22           88.00\n",
       "23           11.00\n",
       "24           36.00\n",
       "26           27.33\n",
       "27            4.00\n",
       "28            7.00\n",
       "29           69.00\n",
       "30           65.00\n",
       "31          108.00\n",
       "32           15.50\n",
       "33           30.00\n",
       "34           14.00\n",
       "35            4.00\n",
       "36           39.33\n",
       "37           17.20\n",
       "38           60.00\n",
       "39            9.00\n",
       "40            9.00\n",
       "41            8.00\n",
       "42           20.00\n",
       "44            9.00\n",
       "45            6.00\n",
       "48           18.00"
      ]
     },
     "execution_count": 54,
     "metadata": {},
     "output_type": "execute_result"
    }
   ],
   "source": [
    "late['WOM'] = late['appilcationDate'].dt.week\n",
    "round(late.groupby('WOM').agg({'dateDifference': ['mean']}),2)"
   ]
  },
  {
   "cell_type": "markdown",
   "metadata": {},
   "source": [
    "---"
   ]
  },
  {
   "cell_type": "markdown",
   "metadata": {},
   "source": [
    "### The End"
   ]
  },
  {
   "cell_type": "markdown",
   "metadata": {},
   "source": [
    "Thank you for completing the challenge. Please make sure you have submitted all of your answers to the arise Challenge Answers form."
   ]
  }
 ],
 "metadata": {
  "kernelspec": {
   "display_name": "Python 3",
   "language": "python",
   "name": "python3"
  },
  "language_info": {
   "codemirror_mode": {
    "name": "ipython",
    "version": 3
   },
   "file_extension": ".py",
   "mimetype": "text/x-python",
   "name": "python",
   "nbconvert_exporter": "python",
   "pygments_lexer": "ipython3",
   "version": "3.7.1"
  }
 },
 "nbformat": 4,
 "nbformat_minor": 2
}
